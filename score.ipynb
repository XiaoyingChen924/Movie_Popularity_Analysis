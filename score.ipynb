{
 "cells": [
  {
   "cell_type": "code",
   "execution_count": 84,
   "metadata": {},
   "outputs": [],
   "source": [
    "import csv\n",
    "import pandas as pd\n",
    "import numpy as np\n",
    "from sklearn.linear_model import LinearRegression"
   ]
  },
  {
   "cell_type": "code",
   "execution_count": 105,
   "metadata": {},
   "outputs": [],
   "source": [
    "def regression(missingValue, predictedValue, file):\n",
    "    data = pd.read_csv(file)\n",
    "    missing_data = data[data[missingValue].isnull() & ~data[predictedValue].isnull()]\n",
    "    non_missing_data = data.dropna(subset = [missingValue, predictedValue])\n",
    "\n",
    "    x_train = non_missing_data[[missingValue]]\n",
    "    y_train = non_missing_data[[predictedValue]]\n",
    "\n",
    "    linear_model = LinearRegression()\n",
    "    linear_model.fit(y_train, x_train)\n",
    "\n",
    "    predicted = linear_model.predict(missing_data[[predictedValue]])\n",
    "    missing_data[missingValue] = predicted\n",
    "\n",
    "    data.update(missing_data)\n",
    "    data = data.round(1)\n",
    "    data.to_csv(\"output.csv\", index = False)\n",
    "\n"
   ]
  },
  {
   "cell_type": "code",
   "execution_count": 107,
   "metadata": {},
   "outputs": [
    {
     "name": "stderr",
     "output_type": "stream",
     "text": [
      "/var/folders/cq/t48nym7s3wx768vc4wml32lm0000gn/T/ipykernel_18636/2493222564.py:13: SettingWithCopyWarning: \n",
      "A value is trying to be set on a copy of a slice from a DataFrame.\n",
      "Try using .loc[row_indexer,col_indexer] = value instead\n",
      "\n",
      "See the caveats in the documentation: https://pandas.pydata.org/pandas-docs/stable/user_guide/indexing.html#returning-a-view-versus-a-copy\n",
      "  missing_data[missingValue] = predicted\n",
      "/var/folders/cq/t48nym7s3wx768vc4wml32lm0000gn/T/ipykernel_18636/2493222564.py:13: SettingWithCopyWarning: \n",
      "A value is trying to be set on a copy of a slice from a DataFrame.\n",
      "Try using .loc[row_indexer,col_indexer] = value instead\n",
      "\n",
      "See the caveats in the documentation: https://pandas.pydata.org/pandas-docs/stable/user_guide/indexing.html#returning-a-view-versus-a-copy\n",
      "  missing_data[missingValue] = predicted\n"
     ]
    }
   ],
   "source": [
    "# data = pd.read_csv(\"movie_titles.csv\")\n",
    "# # missing_data = data[data[\"imdb_score\"].isnull()]\n",
    "# missing_data = data[data[\"imdb_score\"].isnull() & ~data[\"tmdb_score\"].isnull()]\n",
    "# non_missing_data = data.dropna(subset=[\"imdb_score\", \"tmdb_score\"])\n",
    "\n",
    "# tmdb_score_train = non_missing_data[[\"tmdb_score\"]]\n",
    "# imdb_score_train = non_missing_data[\"imdb_score\"]\n",
    "\n",
    "# linear_model = LinearRegression()\n",
    "# linear_model.fit(tmdb_score_train, imdb_score_train)\n",
    "\n",
    "# predicted_imdb = linear_model.predict(missing_data[[\"tmdb_score\"]])\n",
    "# missing_data[\"imdb_score\"] = predicted_imdb\n",
    "\n",
    "regression(\"imdb_score\", \"tmdb_score\", \"movie_titles.csv\")\n",
    "regression(\"tmdb_score\", \"imdb_score\", \"output.csv\")\n"
   ]
  }
 ],
 "metadata": {
  "kernelspec": {
   "display_name": "base",
   "language": "python",
   "name": "python3"
  },
  "language_info": {
   "codemirror_mode": {
    "name": "ipython",
    "version": 3
   },
   "file_extension": ".py",
   "mimetype": "text/x-python",
   "name": "python",
   "nbconvert_exporter": "python",
   "pygments_lexer": "ipython3",
   "version": "3.11.3"
  },
  "orig_nbformat": 4
 },
 "nbformat": 4,
 "nbformat_minor": 2
}
