{
 "cells": [
  {
   "cell_type": "code",
   "execution_count": null,
   "metadata": {},
   "outputs": [],
   "source": [
    "import pandas as pd\n",
    "import numpy as np\n",
    "from matplotlib import pyplot as plt\n"
   ]
  },
  {
   "cell_type": "code",
   "execution_count": null,
   "metadata": {},
   "outputs": [],
   "source": [
    "# Feature Selection (With binary data)\n",
    "from sklearn.feature_selection import mutual_info_classif\n",
    "\n",
    "def feature_selection(inputfile, compared_with, compared_for, threshold):\n",
    "    data = pd.read_CSV(inputfile)\n",
    "    filtered_features = []\n",
    "    features = data[compared_with]\n",
    "    class_label = data[compared_for]\n",
    "    mi_arr = mutual_info_classif(X=features, y=class_label, discrete_features=True)\n",
    "\n",
    "    for feature, mi in zip(features.columns, mi_arr):\n",
    "        print(f'MI value for feature \"{feature}\": {mi:.4f}')\n",
    "        \n",
    "        if(mi >= threshold): \n",
    "            filtered_features.append(feature)\n",
    "            \n",
    "    return ('\\nFeature set after filtering with MI:', filtered_features)"
   ]
  },
  {
   "cell_type": "code",
   "execution_count": null,
   "metadata": {},
   "outputs": [],
   "source": []
  }
 ],
 "metadata": {
  "language_info": {
   "name": "python"
  },
  "orig_nbformat": 4
 },
 "nbformat": 4,
 "nbformat_minor": 2
}
