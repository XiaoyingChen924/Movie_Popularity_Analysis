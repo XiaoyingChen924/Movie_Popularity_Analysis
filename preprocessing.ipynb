{
 "cells": [
  {
   "cell_type": "code",
   "execution_count": 2,
   "metadata": {},
   "outputs": [],
   "source": [
    "import pandas as pd\n",
    "import numpy as np\n",
    "import csv\n",
    "from sklearn.impute import SimpleImputer"
   ]
  },
  {
   "cell_type": "code",
   "execution_count": 3,
   "metadata": {},
   "outputs": [],
   "source": [
    "def movies_file(original_file, new_file):\n",
    "    with open(new_file, \"w\") as csvfile:\n",
    "        df = pd.read_csv(original_file)\n",
    "        csvwriter = csv.writer(csvfile)\n",
    "        csvwriter.writerow(list(df.columns))\n",
    "        row = len(df)\n",
    "        for i in range(len(df)):\n",
    "            id = df.iloc[i][\"id\"]\n",
    "            if \"tm\" in id:\n",
    "                csvwriter.writerow(df.iloc[i])"
   ]
  },
  {
   "cell_type": "code",
   "execution_count": 4,
   "metadata": {},
   "outputs": [],
   "source": [
    "# pull the data of movie out from the dataset\n",
    "movies_file(\"titles.csv\", \"movie_titles.csv\")\n",
    "movies_file(\"credits.csv\", \"movie_credits.csv\")"
   ]
  },
  {
   "cell_type": "code",
   "execution_count": 6,
   "metadata": {},
   "outputs": [],
   "source": [
    "# replace the missing value of imdb_votes and tmdb_popularity\n",
    "movies = pd.read_csv('movie_titles.csv')\n",
    "\n",
    "median_imputer = SimpleImputer(missing_values= np.nan, strategy = \"median\")\n",
    "movies[\"imdb_votes\"] = np.round(median_imputer.fit_transform(movies[[\"imdb_votes\"]]), 1)\n",
    "movies[\"tmdb_popularity\"]= np.round(median_imputer.fit_transform(movies[[\"tmdb_popularity\"]]), 3)\n",
    "\n",
    "movies.to_csv(\"movie_titles.csv\", index = False)"
   ]
  },
  {
   "cell_type": "code",
   "execution_count": 7,
   "metadata": {},
   "outputs": [],
   "source": [
    "def log(data):\n",
    "    return np.log(data)"
   ]
  },
  {
   "cell_type": "code",
   "execution_count": 8,
   "metadata": {},
   "outputs": [],
   "source": [
    "def normalize(imput_list):\n",
    "    movies_array = np.array(imput_list)\n",
    "    # Calculate min and max values\n",
    "    min_val = np.min(movies_array)\n",
    "    max_val = np.max(movies_array)\n",
    "\n",
    "    # Perform Max-Min normalization\n",
    "    normalized_data = (movies_array - min_val) / (max_val - min_val)\n",
    "    normalized_data = np.round(normalized_data, 2)\n",
    "    return normalized_data"
   ]
  },
  {
   "cell_type": "code",
   "execution_count": 9,
   "metadata": {},
   "outputs": [],
   "source": [
    "movies = pd.read_csv(\"movie_titles.csv\")"
   ]
  },
  {
   "cell_type": "code",
   "execution_count": 10,
   "metadata": {},
   "outputs": [],
   "source": [
    "# use log function to shrink data\n",
    "log_imdb_vote = log(movies[\"imdb_votes\"])\n",
    "log_tmdb_popularity = log(movies[\"tmdb_popularity\"])"
   ]
  },
  {
   "cell_type": "code",
   "execution_count": 11,
   "metadata": {},
   "outputs": [],
   "source": [
    "# normalize the data\n",
    "nor_imdb_score = normalize(movies[\"imdb_score\"])\n",
    "nor_tmdb_score = normalize(movies[\"tmdb_score\"])\n",
    "\n",
    "nor_imdb_vote = normalize(log_imdb_vote)\n",
    "nor_tmdb_popularity = normalize(log_tmdb_popularity)"
   ]
  },
  {
   "cell_type": "code",
   "execution_count": 13,
   "metadata": {},
   "outputs": [],
   "source": [
    "# movies[\"nor_imdb_score\"] = nor_imdb_score\n",
    "movies[\"nor_imdb_vote\"] = nor_imdb_vote\n",
    "movies[\"nor_tmdb_popularity\"] = nor_tmdb_popularity\n",
    "# movies[\"nor_tmdb_score\"] = nor_tmdb_score \n",
    "movies[\"weighted_average_popularity\"] = np.round(0.5 * nor_imdb_vote + 0.5 * nor_tmdb_popularity, 2)\n",
    "movies.to_csv(\"standardized.csv\", index = False)\n"
   ]
  }
 ],
 "metadata": {
  "kernelspec": {
   "display_name": "base",
   "language": "python",
   "name": "python3"
  },
  "language_info": {
   "codemirror_mode": {
    "name": "ipython",
    "version": 3
   },
   "file_extension": ".py",
   "mimetype": "text/x-python",
   "name": "python",
   "nbconvert_exporter": "python",
   "pygments_lexer": "ipython3",
   "version": "3.11.3"
  },
  "orig_nbformat": 4
 },
 "nbformat": 4,
 "nbformat_minor": 2
}
