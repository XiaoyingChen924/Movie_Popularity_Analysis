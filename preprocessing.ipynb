{
 "cells": [
  {
   "cell_type": "code",
   "execution_count": 1,
   "metadata": {},
   "outputs": [],
   "source": [
    "import pandas as pd\n",
    "import numpy as np\n",
    "import csv\n",
    "from sklearn.impute import SimpleImputer"
   ]
  },
  {
   "cell_type": "code",
   "execution_count": 2,
   "metadata": {},
   "outputs": [],
   "source": [
    "def movies_file(original_file, new_file):\n",
    "    with open(new_file, \"w\") as csvfile:\n",
    "        df = pd.read_csv(original_file)\n",
    "        csvwriter = csv.writer(csvfile)\n",
    "        csvwriter.writerow(list(df.columns))\n",
    "        row = len(df)\n",
    "        for i in range(len(df)):\n",
    "            id = df.iloc[i][\"id\"]\n",
    "            if \"tm\" in id:\n",
    "                csvwriter.writerow(df.iloc[i])"
   ]
  },
  {
   "cell_type": "code",
   "execution_count": 3,
   "metadata": {},
   "outputs": [
    {
     "ename": "UnicodeEncodeError",
     "evalue": "'charmap' codec can't encode character '\\ufb00' in position 260: character maps to <undefined>",
     "output_type": "error",
     "traceback": [
      "\u001b[1;31m---------------------------------------------------------------------------\u001b[0m",
      "\u001b[1;31mUnicodeEncodeError\u001b[0m                        Traceback (most recent call last)",
      "\u001b[1;32mc:\\Users\\Josh\\OneDrive\\Unimelb\\EODP\\ASS2\\preprocessing.ipynb Cell 3\u001b[0m line \u001b[0;36m2\n\u001b[0;32m      <a href='vscode-notebook-cell:/c%3A/Users/Josh/OneDrive/Unimelb/EODP/ASS2/preprocessing.ipynb#W2sZmlsZQ%3D%3D?line=0'>1</a>\u001b[0m \u001b[39m# pull the data of movie out from the dataset\u001b[39;00m\n\u001b[1;32m----> <a href='vscode-notebook-cell:/c%3A/Users/Josh/OneDrive/Unimelb/EODP/ASS2/preprocessing.ipynb#W2sZmlsZQ%3D%3D?line=1'>2</a>\u001b[0m movies_file(\u001b[39m\"\u001b[39;49m\u001b[39mtitles.csv\u001b[39;49m\u001b[39m\"\u001b[39;49m, \u001b[39m\"\u001b[39;49m\u001b[39mmovie_titles.csv\u001b[39;49m\u001b[39m\"\u001b[39;49m)\n\u001b[0;32m      <a href='vscode-notebook-cell:/c%3A/Users/Josh/OneDrive/Unimelb/EODP/ASS2/preprocessing.ipynb#W2sZmlsZQ%3D%3D?line=2'>3</a>\u001b[0m movies_file(\u001b[39m\"\u001b[39m\u001b[39mcredits.csv\u001b[39m\u001b[39m\"\u001b[39m, \u001b[39m\"\u001b[39m\u001b[39mmovie_credits.csv\u001b[39m\u001b[39m\"\u001b[39m)\n",
      "\u001b[1;32mc:\\Users\\Josh\\OneDrive\\Unimelb\\EODP\\ASS2\\preprocessing.ipynb Cell 3\u001b[0m line \u001b[0;36m1\n\u001b[0;32m      <a href='vscode-notebook-cell:/c%3A/Users/Josh/OneDrive/Unimelb/EODP/ASS2/preprocessing.ipynb#W2sZmlsZQ%3D%3D?line=7'>8</a>\u001b[0m \u001b[39mid\u001b[39m \u001b[39m=\u001b[39m df\u001b[39m.\u001b[39miloc[i][\u001b[39m\"\u001b[39m\u001b[39mid\u001b[39m\u001b[39m\"\u001b[39m]\n\u001b[0;32m      <a href='vscode-notebook-cell:/c%3A/Users/Josh/OneDrive/Unimelb/EODP/ASS2/preprocessing.ipynb#W2sZmlsZQ%3D%3D?line=8'>9</a>\u001b[0m \u001b[39mif\u001b[39;00m \u001b[39m\"\u001b[39m\u001b[39mtm\u001b[39m\u001b[39m\"\u001b[39m \u001b[39min\u001b[39;00m \u001b[39mid\u001b[39m:\n\u001b[1;32m---> <a href='vscode-notebook-cell:/c%3A/Users/Josh/OneDrive/Unimelb/EODP/ASS2/preprocessing.ipynb#W2sZmlsZQ%3D%3D?line=9'>10</a>\u001b[0m     csvwriter\u001b[39m.\u001b[39;49mwriterow(df\u001b[39m.\u001b[39;49miloc[i])\n",
      "File \u001b[1;32mC:\\Program Files\\WindowsApps\\PythonSoftwareFoundation.Python.3.10_3.10.3056.0_x64__qbz5n2kfra8p0\\lib\\encodings\\cp1252.py:19\u001b[0m, in \u001b[0;36mIncrementalEncoder.encode\u001b[1;34m(self, input, final)\u001b[0m\n\u001b[0;32m     18\u001b[0m \u001b[39mdef\u001b[39;00m \u001b[39mencode\u001b[39m(\u001b[39mself\u001b[39m, \u001b[39minput\u001b[39m, final\u001b[39m=\u001b[39m\u001b[39mFalse\u001b[39;00m):\n\u001b[1;32m---> 19\u001b[0m     \u001b[39mreturn\u001b[39;00m codecs\u001b[39m.\u001b[39;49mcharmap_encode(\u001b[39minput\u001b[39;49m,\u001b[39mself\u001b[39;49m\u001b[39m.\u001b[39;49merrors,encoding_table)[\u001b[39m0\u001b[39m]\n",
      "\u001b[1;31mUnicodeEncodeError\u001b[0m: 'charmap' codec can't encode character '\\ufb00' in position 260: character maps to <undefined>"
     ]
    }
   ],
   "source": [
    "# pull the data of movie out from the dataset\n",
    "movies_file(\"titles.csv\", \"movie_titles.csv\")\n",
    "movies_file(\"credits.csv\", \"movie_credits.csv\")"
   ]
  },
  {
   "cell_type": "code",
   "execution_count": null,
   "metadata": {},
   "outputs": [],
   "source": [
    "# replace the missing value of imdb_votes and tmdb_popularity\n",
    "movies = pd.read_csv('movie_titles.csv')\n",
    "\n",
    "median_imputer = SimpleImputer(missing_values= np.nan, strategy = \"median\")\n",
    "movies[\"imdb_votes\"] = np.round(median_imputer.fit_transform(movies[[\"imdb_votes\"]]), 1)\n",
    "movies[\"tmdb_popularity\"]= np.round(median_imputer.fit_transform(movies[[\"tmdb_popularity\"]]), 3)\n",
    "\n",
    "movies.to_csv(\"movie_titles.csv\", index = False)"
   ]
  },
  {
   "cell_type": "code",
   "execution_count": null,
   "metadata": {},
   "outputs": [],
   "source": [
    "def log(data):\n",
    "    return np.log(data)"
   ]
  },
  {
   "cell_type": "code",
   "execution_count": null,
   "metadata": {},
   "outputs": [],
   "source": [
    "def normalize(imput_list):\n",
    "    movies_array = np.array(imput_list)\n",
    "    # Calculate min and max values\n",
    "    min_val = np.min(movies_array)\n",
    "    max_val = np.max(movies_array)\n",
    "\n",
    "    # Perform Max-Min normalization\n",
    "    normalized_data = (movies_array - min_val) / (max_val - min_val)\n",
    "    normalized_data = np.round(normalized_data, 2)\n",
    "    return normalized_data"
   ]
  },
  {
   "cell_type": "code",
   "execution_count": null,
   "metadata": {},
   "outputs": [],
   "source": [
    "movies = pd.read_csv(\"movie_titles.csv\")"
   ]
  },
  {
   "cell_type": "code",
   "execution_count": null,
   "metadata": {},
   "outputs": [],
   "source": [
    "# use log function to shrink data\n",
    "log_imdb_vote = log(movies[\"imdb_votes\"])\n",
    "log_tmdb_popularity = log(movies[\"tmdb_popularity\"])"
   ]
  },
  {
   "cell_type": "code",
   "execution_count": null,
   "metadata": {},
   "outputs": [],
   "source": [
    "# normalize the data\n",
    "nor_imdb_score = normalize(movies[\"imdb_score\"])\n",
    "nor_tmdb_score = normalize(movies[\"tmdb_score\"])\n",
    "\n",
    "nor_imdb_vote = normalize(log_imdb_vote)\n",
    "nor_tmdb_popularity = normalize(log_tmdb_popularity)"
   ]
  },
  {
   "cell_type": "code",
   "execution_count": null,
   "metadata": {},
   "outputs": [],
   "source": [
    "movies[\"nor_imdb_vote\"] = nor_imdb_vote\n",
    "movies[\"nor_tmdb_popularity\"] = nor_tmdb_popularity\n",
    "movies[\"weighted_average_popularity\"] = np.round(0.5 * nor_imdb_vote + 0.5 * nor_tmdb_popularity, 2)\n",
    "movies.to_csv(\"standardized.csv\", index = False)"
   ]
  }
 ],
 "metadata": {
  "kernelspec": {
   "display_name": "base",
   "language": "python",
   "name": "python3"
  },
  "language_info": {
   "codemirror_mode": {
    "name": "ipython",
    "version": 3
   },
   "file_extension": ".py",
   "mimetype": "text/x-python",
   "name": "python",
   "nbconvert_exporter": "python",
   "pygments_lexer": "ipython3",
   "version": "3.10.11"
  },
  "orig_nbformat": 4
 },
 "nbformat": 4,
 "nbformat_minor": 2
}
