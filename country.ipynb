{
 "cells": [
  {
   "cell_type": "code",
   "execution_count": null,
   "metadata": {},
   "outputs": [
    {
     "ename": "",
     "evalue": "",
     "output_type": "error",
     "traceback": [
      "\u001b[1;31mRunning cells with '/usr/local/bin/python3' requires the ipykernel package.\n",
      "\u001b[1;31mRun the following command to install 'ipykernel' into the Python environment. \n",
      "\u001b[1;31mCommand: '/usr/local/bin/python3 -m pip install ipykernel -U --user --force-reinstall'"
     ]
    }
   ],
   "source": [
    "import pandas as pd\n",
    "import numpy as np\n",
    "import csv\n",
    "import ast"
   ]
  },
  {
   "cell_type": "code",
   "execution_count": null,
   "metadata": {},
   "outputs": [
    {
     "ename": "",
     "evalue": "",
     "output_type": "error",
     "traceback": [
      "\u001b[1;31mRunning cells with '/usr/local/bin/python3' requires the ipykernel package.\n",
      "\u001b[1;31mRun the following command to install 'ipykernel' into the Python environment. \n",
      "\u001b[1;31mCommand: '/usr/local/bin/python3 -m pip install ipykernel -U --user --force-reinstall'"
     ]
    }
   ],
   "source": []
  },
  {
   "cell_type": "code",
   "execution_count": null,
   "metadata": {},
   "outputs": [
    {
     "ename": "",
     "evalue": "",
     "output_type": "error",
     "traceback": [
      "\u001b[1;31mRunning cells with '/usr/local/bin/python3' requires the ipykernel package.\n",
      "\u001b[1;31mRun the following command to install 'ipykernel' into the Python environment. \n",
      "\u001b[1;31mCommand: '/usr/local/bin/python3 -m pip install ipykernel -U --user --force-reinstall'"
     ]
    }
   ],
   "source": [
    "data = pd.read_csv(\"standardized.csv\")\n",
    "data = data.dropna(subset=[\"production_countries\", \"weighted_average_popularity\"])\n",
    "country_dict = {}\n",
    "\n",
    "for index, row in data.iterrows():\n",
    "    countries = row[\"production_countries\"]\n",
    "    popularity = row[\"weighted_average_popularity\"]\n",
    "    countries = ast.literal_eval(countries)\n",
    "    \n",
    "    for i in range(len(countries)):\n",
    "        country = countries[i]\n",
    "        if country not in country_dict:\n",
    "            country_dict[country] = [popularity]\n",
    "        else:\n",
    "            country_dict[country].append(popularity)\n",
    "        i += 1\n",
    "\n",
    "country_popularity_dict = {}\n",
    "for key, value in country_dict.items():\n",
    "    average = sum(value) / len(value)\n",
    "    country_popularity_dict[key] = round(average, 2)\n",
    "\n",
    "df = pd.DataFrame(list(country_popularity_dict.items()), columns = [\"country\", \"weighted_average_popularity\"])\n",
    "\n",
    "df.to_csv(\"country.csv\", index = False)\n"
   ]
  },
  {
   "cell_type": "code",
   "execution_count": null,
   "metadata": {},
   "outputs": [
    {
     "ename": "",
     "evalue": "",
     "output_type": "error",
     "traceback": [
      "\u001b[1;31mRunning cells with '/usr/local/bin/python3' requires the ipykernel package.\n",
      "\u001b[1;31mRun the following command to install 'ipykernel' into the Python environment. \n",
      "\u001b[1;31mCommand: '/usr/local/bin/python3 -m pip install ipykernel -U --user --force-reinstall'"
     ]
    }
   ],
   "source": [
    "from sklearn.feature_selection import mutual_info_classif\n",
    "\n",
    "data = pd.read_csv(\"country.csv\")\n",
    "data = data.dropna(subset = [\"country\", \"weighted_average_popularity\"])\n",
    "\n",
    "data[\"range\"] = pd.cut(data[\"weighted_average_popularity\"], bins=[0, 0.5, 1], labels=['<=0.5', '>0.5'])\n",
    "countries = data[[\"country\"]].copy()\n",
    "popularity = data[\"range\"]\n",
    "\n",
    "countries[\"country\"] = countries[\"country\"].astype(\"category\")\n",
    "\n",
    "mi = mutual_info_classif(X=countries, y=popularity, discrete_features=True)\n",
    "print(mi)\n"
   ]
  },
  {
   "cell_type": "markdown",
   "metadata": {},
   "source": [
    "The mutual information between country and popularity is 0.8, which shows there is a relationship between them"
   ]
  }
 ],
 "metadata": {
  "kernelspec": {
   "display_name": "base",
   "language": "python",
   "name": "python3"
  },
  "language_info": {
   "codemirror_mode": {
    "name": "ipython",
    "version": 3
   },
   "file_extension": ".py",
   "mimetype": "text/x-python",
   "name": "python",
   "nbconvert_exporter": "python",
   "pygments_lexer": "ipython3",
   "version": "3.11.4"
  },
  "orig_nbformat": 4
 },
 "nbformat": 4,
 "nbformat_minor": 2
}
