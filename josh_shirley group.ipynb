{
 "cells": [
  {
   "cell_type": "code",
   "execution_count": 1,
   "metadata": {},
   "outputs": [],
   "source": [
    "import pandas as pd\n",
    "import numpy as np"
   ]
  },
  {
   "cell_type": "code",
   "execution_count": 2,
   "metadata": {},
   "outputs": [
    {
     "name": "stdout",
     "output_type": "stream",
     "text": [
      "1\n"
     ]
    }
   ],
   "source": [
    "# read csv in to file\n",
    "credits = pd.read_csv(\"credits.csv\")\n",
    "print(1)"
   ]
  },
  {
   "cell_type": "code",
   "execution_count": 14,
   "metadata": {},
   "outputs": [],
   "source": [
    "# create a director,actor dictionary with name as key, vlaue in the form [list of movie, number of movies acted ,average rating] and output as a new csv\n",
    "\n",
    "MOVIE_ID = 0\n",
    "MOVIE_COUNT = 1\n",
    "AVG_SCORE = 2\n",
    "\n",
    "actors_dict = {}\n",
    "directors_dict = {}\n",
    "for index, data in credits.iterrows():\n",
    "    if(data[\"role\"] == \"ACTOR\"):\n",
    "        if(data[\"name\"] not in actors_dict.keys()):\n",
    "            actors_dict[data[\"name\"]] = [[data[\"id\"]],1,0]\n",
    "        else:\n",
    "            actors_dict[data[\"name\"]][MOVIE_COUNT] += 1\n",
    "            actors_dict[data[\"name\"]][MOVIE_ID].append(data[\"id\"])\n",
    "    else:\n",
    "        if(data[\"name\"] not in directors_dict.keys()):\n",
    "            directors_dict[data[\"name\"]] = [[data[\"id\"]],0,1]\n",
    "        else:\n",
    "            directors_dict[data[\"name\"]][MOVIE_COUNT] += 1\n",
    "            directors_dict[data[\"name\"]][MOVIE_ID].append(data[\"id\"])\n"
   ]
  },
  {
   "cell_type": "code",
   "execution_count": 15,
   "metadata": {},
   "outputs": [],
   "source": [
    "# Put all the data into csv file\n",
    "act_df = pd.DataFrame.from_dict(actors_dict)\n",
    "act_df = act_df.transpose()\n",
    "# add title to the data\n",
    "column_titles = ['movie acted', 'num_of_movie', \"avg_score\"]  # Replace with desired column titles\n",
    "act_df.columns = column_titles\n",
    "act_df.index.name = \"name\"\n",
    "act_df.to_csv(\"actor.csv\")\n",
    "\n",
    "#do exact same thing for director\n",
    "dir_df = pd.DataFrame.from_dict(directors_dict)\n",
    "dir_df = dir_df.transpose()\n",
    "# add title to the data\n",
    "column_titles = ['movie acted', 'num_of_movie', \"avg_score\"]  # Replace with desired column titles\n",
    "dir_df.columns = column_titles\n",
    "dir_df.index.name = \"name\"\n",
    "dir_df.to_csv(\"director.csv\")"
   ]
  },
  {
   "cell_type": "markdown",
   "metadata": {},
   "source": [
    "calculate weighted score use max-min normalize method to adjust all the valuje from imdb and tmdb then apply weight to each of them"
   ]
  },
  {
   "cell_type": "code",
   "execution_count": 16,
   "metadata": {},
   "outputs": [],
   "source": [
    "movies = pd.read_csv(\"pre-processed_data.csv\")"
   ]
  },
  {
   "cell_type": "code",
   "execution_count": 17,
   "metadata": {},
   "outputs": [],
   "source": [
    "def normalize(imput_list):\n",
    "    movies_array = np.array(imput_list)\n",
    "    # Calculate min and max values\n",
    "    min_val = np.min(movies_array)\n",
    "    max_val = np.max(movies_array)\n",
    "\n",
    "    # Perform Max-Min normalization\n",
    "    normalized_data = (movies_array - min_val) / (max_val - min_val)\n",
    "    return normalized_data"
   ]
  },
  {
   "cell_type": "code",
   "execution_count": 18,
   "metadata": {},
   "outputs": [],
   "source": [
    "nor_imdb_score = normalize(movies[\"imdb_score\"])\n",
    "nor_tmdb_score = normalize(movies[\"tmdb_score\"])"
   ]
  },
  {
   "cell_type": "code",
   "execution_count": 19,
   "metadata": {},
   "outputs": [],
   "source": [
    "def log(data):\n",
    "    return np.log1p(data)"
   ]
  },
  {
   "cell_type": "code",
   "execution_count": 20,
   "metadata": {},
   "outputs": [],
   "source": [
    "log_imdb_vote = log(movies[\"imdb_votes\"])\n",
    "log_tmdb_popularity = log(movies[\"tmdb_popularity\"])"
   ]
  },
  {
   "cell_type": "code",
   "execution_count": 21,
   "metadata": {},
   "outputs": [],
   "source": [
    "movies[\"nor_imdb_score\"] = nor_imdb_score\n",
    "movies[\"log_imdb_vote\"] = log_imdb_vote\n",
    "movies[\"log_tmdb_popularity\"] = log_tmdb_popularity\n",
    "movies[\"nor_tmdb_score\"] = nor_tmdb_score\n",
    "\n",
    "#movies[\"weight_average_score\"] = nor_imdb_score*3.5 + nor_imdb_vote*1.5 + nor_tmdb_popularity*1.5 + nor_tmdb_score*3.5\n",
    "#movies.to_csv(\"wight_average_score.csv\", index=False)\n",
    "movies.to_csv(\"normalized.csv\", index = False)"
   ]
  },
  {
   "cell_type": "markdown",
   "metadata": {},
   "source": [
    "calculate popularity of an actor base on the movie and number of movies they acted "
   ]
  },
  {
   "cell_type": "code",
   "execution_count": null,
   "metadata": {},
   "outputs": [],
   "source": [
    "# iterate through actor and director dictionary\n",
    "import numpy as np\n",
    "import matplotlib.pyplot as plt\n",
    "\n",
    "t = np.linspace(0, 2 * np.pi, 1000)\n",
    "x = 16 * np.sin(t)**3\n",
    "y = 13 * np.cos(t) - 5 * np.cos(2*t) - 2 * np.cos(3*t) - np.cos(4*t)\n",
    "\n",
    "plt.figure(figsize=(6,6))\n",
    "plt.plot(x, y, 'r')\n",
    "plt.title(\"I love shirley\")\n",
    "plt.axis(\"off\")  \n",
    "plt.show()\n"
   ]
  }
 ],
 "metadata": {
  "kernelspec": {
   "display_name": "Python 3",
   "language": "python",
   "name": "python3"
  },
  "language_info": {
   "codemirror_mode": {
    "name": "ipython",
    "version": 3
   },
   "file_extension": ".py",
   "mimetype": "text/x-python",
   "name": "python",
   "nbconvert_exporter": "python",
   "pygments_lexer": "ipython3",
   "version": "3.11.5"
  },
  "orig_nbformat": 4
 },
 "nbformat": 4,
 "nbformat_minor": 2
}
