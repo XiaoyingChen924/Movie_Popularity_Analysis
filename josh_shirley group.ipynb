{
 "cells": [
  {
   "cell_type": "code",
   "execution_count": 15,
   "metadata": {},
   "outputs": [],
   "source": [
    "import pandas as pd\n",
    "import numpy as np"
   ]
  },
  {
   "cell_type": "code",
   "execution_count": 16,
   "metadata": {},
   "outputs": [],
   "source": [
    "# read csv in to file\n",
    "credits = pd.read_csv(\"credits.csv\")"
   ]
  },
  {
   "cell_type": "code",
   "execution_count": 17,
   "metadata": {},
   "outputs": [],
   "source": [
    "# create a director,actor dictionary with name as key, vlaue in the form [list of movie, number of movies acted ,average rating] and output as a new csv\n",
    "\n",
    "MOVIE_ID = 0\n",
    "MOVIE_COUNT = 1\n",
    "AVG_SCORE = 2\n",
    "\n",
    "actors_dict = {}\n",
    "directors_dict = {}\n",
    "for index, data in credits.iterrows():\n",
    "    if(data[\"role\"] == \"ACTOR\"):\n",
    "        if(data[\"name\"] not in actors_dict.keys()):\n",
    "            actors_dict[data[\"name\"]] = [[data[\"id\"]],1,0]\n",
    "        else:\n",
    "            actors_dict[data[\"name\"]][MOVIE_COUNT] += 1\n",
    "            actors_dict[data[\"name\"]][MOVIE_ID].append(data[\"id\"])\n",
    "    else:\n",
    "        if(data[\"name\"] not in directors_dict.keys()):\n",
    "            directors_dict[data[\"name\"]] = [[data[\"id\"]],0,1]\n",
    "        else:\n",
    "            directors_dict[data[\"name\"]][MOVIE_COUNT] += 1\n",
    "            directors_dict[data[\"name\"]][MOVIE_ID].append(data[\"id\"])\n"
   ]
  },
  {
   "cell_type": "code",
   "execution_count": 18,
   "metadata": {},
   "outputs": [],
   "source": [
    "# Put all the data into csv file\n",
    "act_df = pd.DataFrame.from_dict(actors_dict)\n",
    "act_df = act_df.transpose()\n",
    "# add title to the data\n",
    "column_titles = ['movie acted', 'num_of_movie', \"avg_score\"]  # Replace with desired column titles\n",
    "act_df.columns = column_titles\n",
    "act_df.index.name = \"name\"\n",
    "act_df.to_csv(\"actor.csv\")\n",
    "\n",
    "#do exact same thing for director\n",
    "dir_df = pd.DataFrame.from_dict(directors_dict)\n",
    "dir_df = dir_df.transpose()\n",
    "# add title to the data\n",
    "column_titles = ['movie acted', 'num_of_movie', \"avg_score\"]  # Replace with desired column titles\n",
    "dir_df.columns = column_titles\n",
    "dir_df.index.name = \"name\"\n",
    "dir_df.to_csv(\"director.csv\")"
   ]
  },
  {
   "cell_type": "markdown",
   "metadata": {},
   "source": [
    "calculate weighted score use max-min normalize method to adjust all the valuje from imdb and tmdb then apply weight to each of them"
   ]
  },
  {
   "cell_type": "code",
   "execution_count": 19,
   "metadata": {},
   "outputs": [],
   "source": [
    "movies = pd.read_csv(\"pre-processed_data.csv\")"
   ]
  },
  {
   "cell_type": "code",
   "execution_count": 20,
   "metadata": {},
   "outputs": [],
   "source": [
    "def normalize(imput_list):\n",
    "    movies_array = np.array(imput_list)\n",
    "    # Calculate min and max values\n",
    "    min_val = np.min(movies_array)\n",
    "    max_val = np.max(movies_array)\n",
    "\n",
    "    # Perform Max-Min normalization\n",
    "    normalized_data = (movies_array - min_val) / (max_val - min_val)\n",
    "    return normalized_data"
   ]
  },
  {
   "cell_type": "code",
   "execution_count": 21,
   "metadata": {},
   "outputs": [],
   "source": [
    "nor_imdb_score = normalize(movies[\"imdb_score\"])\n",
    "nor_imdb_vote = normalize(movies[\"imdb_votes\"])\n",
    "nor_tmdb_popularity = normalize(movies[\"tmdb_popularity\"])\n",
    "nor_tmdb_score = normalize(movies[\"tmdb_score\"])\n",
    "\n",
    "movies[\"weight_average_score\"] = nor_imdb_score*3.5 + nor_imdb_vote*1.5 + nor_tmdb_popularity*1.5 + nor_tmdb_score*3.5\n",
    "movies.to_csv(\"wight_average_score.csv\", index=False)"
   ]
  }
 ],
 "metadata": {
  "kernelspec": {
   "display_name": "Python 3",
   "language": "python",
   "name": "python3"
  },
  "language_info": {
   "codemirror_mode": {
    "name": "ipython",
    "version": 3
   },
   "file_extension": ".py",
   "mimetype": "text/x-python",
   "name": "python",
   "nbconvert_exporter": "python",
   "pygments_lexer": "ipython3",
   "version": "3.10.11"
  },
  "orig_nbformat": 4
 },
 "nbformat": 4,
 "nbformat_minor": 2
}
