{
 "cells": [
  {
   "cell_type": "code",
   "execution_count": 2,
   "metadata": {},
   "outputs": [],
   "source": [
    "import pandas as pd\n",
    "import numpy as np"
   ]
  },
  {
   "cell_type": "code",
   "execution_count": 12,
   "metadata": {},
   "outputs": [],
   "source": [
    "# read csv in to file\n",
    "credits = pd.read_csv(\"credits.csv\")"
   ]
  },
  {
   "cell_type": "code",
   "execution_count": 13,
   "metadata": {},
   "outputs": [],
   "source": [
    "# create a director,actor dictionary with name as key, vlaue in the form [list of movie, number of movies acted ,average rating] and output as a new csv\n",
    "\n",
    "MOVIE_ID = 0\n",
    "MOVIE_COUNT = 1\n",
    "AVG_SCORE = 2\n",
    "\n",
    "actors_dict = {}\n",
    "directors_dict = {}\n",
    "for index, data in credits.iterrows():\n",
    "    if(data[\"role\"] == \"ACTOR\"):\n",
    "        if(data[\"name\"] not in actors_dict.keys()):\n",
    "            actors_dict[data[\"name\"]] = [[data[\"id\"]],1,0]\n",
    "        else:\n",
    "            actors_dict[data[\"name\"]][MOVIE_COUNT] += 1\n",
    "            actors_dict[data[\"name\"]][MOVIE_ID].append(data[\"id\"])\n",
    "    else:\n",
    "        if(data[\"name\"] not in directors_dict.keys()):\n",
    "            directors_dict[data[\"name\"]] = [[data[\"id\"]],0,1]\n",
    "        else:\n",
    "            directors_dict[data[\"name\"]][MOVIE_COUNT] += 1\n",
    "            directors_dict[data[\"name\"]][MOVIE_ID].append(data[\"id\"])\n"
   ]
  },
  {
   "cell_type": "code",
   "execution_count": null,
   "metadata": {},
   "outputs": [],
   "source": [
    "# Put all the data into csv file\n",
    "act_df = pd.DataFrame.from_dict(actors_dict)\n",
    "act_df = act_df.transpose()\n",
    "# add title to the data\n",
    "column_titles = ['movie acted', 'num_of_movie', \"avg_score\"]  # Replace with desired column titles\n",
    "act_df.columns = column_titles\n",
    "act_df.index.name = \"name\"\n",
    "act_df.to_csv(\"actor.csv\")\n",
    "\n",
    "#do exact same thing for director\n",
    "dir_df = pd.DataFrame.from_dict(directors_dict)\n",
    "dir_df = dir_df.transpose()\n",
    "# add title to the data\n",
    "column_titles = ['movie acted', 'num_of_movie', \"avg_score\"]  # Replace with desired column titles\n",
    "dir_df.columns = column_titles\n",
    "dir_df.index.name = \"name\"\n",
    "dir_df.to_csv(\"director.csv\")"
   ]
  },
  {
   "cell_type": "markdown",
   "metadata": {},
   "source": [
    "calculate weighted score use max-min normalize method to adjust all the valuje from imdb and tmdb then apply weight to each of them"
   ]
  },
  {
   "cell_type": "code",
   "execution_count": 11,
   "metadata": {},
   "outputs": [],
   "source": [
    "movies = pd.read_csv(\"titles.csv\")"
   ]
  },
  {
   "cell_type": "code",
   "execution_count": 17,
   "metadata": {},
   "outputs": [
    {
     "name": "stdout",
     "output_type": "stream",
     "text": [
      "0          NaN\n",
      "1        8.179\n",
      "2        7.300\n",
      "3        7.811\n",
      "4        7.600\n",
      "         ...  \n",
      "5845       NaN\n",
      "5846       NaN\n",
      "5847     6.300\n",
      "5848    10.000\n",
      "5849    10.000\n",
      "Name: tmdb_score, Length: 5850, dtype: float64\n",
      "nan nan\n"
     ]
    }
   ],
   "source": [
    "movies_array = np.array((movies[\"tmdb_score\"]))\n",
    "# Calculate min and max values\n",
    "min_val = np.min(movies_array)\n",
    "max_val = np.max(movies_array)\n",
    "\n",
    "# Perform Max-Min normalization\n",
    "normalized_data = (movies_array - min_val) / (max_val - min_val)\n",
    "print(max_val, min_val)\n",
    "movies[\"test_score\"] = normalized_data\n",
    "movies.to_csv(\"test_score.csv\", index=False)"
   ]
  }
 ],
 "metadata": {
  "kernelspec": {
   "display_name": "Python 3",
   "language": "python",
   "name": "python3"
  },
  "language_info": {
   "codemirror_mode": {
    "name": "ipython",
    "version": 3
   },
   "file_extension": ".py",
   "mimetype": "text/x-python",
   "name": "python",
   "nbconvert_exporter": "python",
   "pygments_lexer": "ipython3",
   "version": "3.10.11"
  },
  "orig_nbformat": 4
 },
 "nbformat": 4,
 "nbformat_minor": 2
}
